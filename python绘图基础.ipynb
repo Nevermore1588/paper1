{
 "cells": [
  {
   "cell_type": "markdown",
   "id": "aa98ff18",
   "metadata": {},
   "source": [
    "# 工具准备\n",
    "miniconda安装及环境配置:[miniconda安装说明](https://zhuanlan.zhihu.com/p/102564715?from_voters_page=true)\n",
    "\n",
    "[miniconda官方地址](https://docs.conda.io/en/latest/miniconda.html)\n",
    "\n",
    "[jupyter notebook环境配置及安装说明](https://www.bilibili.com/video/BV1m64y1s7wt?spm_id_from=333.999.0.0)\n",
    "\n",
    "ps：实在不会装的问我就好了，链接太多很麻烦\n",
    "\n",
    "所有内容均提供源码，上传到群文件，大家打开试试就好了"
   ]
  },
  {
   "cell_type": "markdown",
   "id": "58d4dece",
   "metadata": {},
   "source": [
    "## jupyter notebook打开方式\n",
    "![打开方式](http://localhost:8888/tree/1648647062(1).jpg)\n",
    "\n",
    "在命令行输入:jupyter notebook 即可呼出\n"
   ]
  },
  {
   "cell_type": "markdown",
   "id": "f1af2788",
   "metadata": {},
   "source": [
    "## jupyter notebook界面介绍\n",
    "![打开方式](http://localhost:8888/tree/1648647685(1).jpg)"
   ]
  },
  {
   "cell_type": "markdown",
   "id": "425a908a",
   "metadata": {},
   "source": [
    "## 最强大的绘图库：matplotlib\n",
    "[matplotlib官方](https://matplotlib.org/stable/index.html)"
   ]
  },
  {
   "cell_type": "code",
   "execution_count": null,
   "id": "942fb124",
   "metadata": {},
   "outputs": [],
   "source": []
  }
 ],
 "metadata": {
  "kernelspec": {
   "display_name": "Python 3 (ipykernel)",
   "language": "python",
   "name": "python3"
  },
  "language_info": {
   "codemirror_mode": {
    "name": "ipython",
    "version": 3
   },
   "file_extension": ".py",
   "mimetype": "text/x-python",
   "name": "python",
   "nbconvert_exporter": "python",
   "pygments_lexer": "ipython3",
   "version": "3.9.7"
  },
  "toc": {
   "base_numbering": 1,
   "nav_menu": {},
   "number_sections": true,
   "sideBar": true,
   "skip_h1_title": false,
   "title_cell": "Table of Contents",
   "title_sidebar": "Contents",
   "toc_cell": false,
   "toc_position": {},
   "toc_section_display": true,
   "toc_window_display": false
  },
  "varInspector": {
   "cols": {
    "lenName": 16,
    "lenType": 16,
    "lenVar": 40
   },
   "kernels_config": {
    "python": {
     "delete_cmd_postfix": "",
     "delete_cmd_prefix": "del ",
     "library": "var_list.py",
     "varRefreshCmd": "print(var_dic_list())"
    },
    "r": {
     "delete_cmd_postfix": ") ",
     "delete_cmd_prefix": "rm(",
     "library": "var_list.r",
     "varRefreshCmd": "cat(var_dic_list()) "
    }
   },
   "types_to_exclude": [
    "module",
    "function",
    "builtin_function_or_method",
    "instance",
    "_Feature"
   ],
   "window_display": false
  }
 },
 "nbformat": 4,
 "nbformat_minor": 5
}
